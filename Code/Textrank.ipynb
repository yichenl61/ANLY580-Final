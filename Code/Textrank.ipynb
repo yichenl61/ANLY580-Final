{
  "nbformat": 4,
  "nbformat_minor": 0,
  "metadata": {
    "colab": {
      "provenance": []
    },
    "kernelspec": {
      "name": "python3",
      "display_name": "Python 3"
    },
    "language_info": {
      "name": "python"
    }
  },
  "cells": [
    {
      "cell_type": "markdown",
      "source": [
        "## Text Summarization --- Textrank algorithm\n",
        "\n"
      ],
      "metadata": {
        "id": "KkhXzsTZXz-v"
      }
    },
    {
      "cell_type": "code",
      "execution_count": 1,
      "metadata": {
        "id": "P8A8JQV7XgYe"
      },
      "outputs": [],
      "source": [
        "# data set: https://www.kaggle.com/datasets/gowrishankarp/newspaper-text-summarization-cnn-dailymail"
      ]
    },
    {
      "cell_type": "code",
      "source": [
        "from google.colab import drive\n",
        "drive.mount('/content/drive')"
      ],
      "metadata": {
        "colab": {
          "base_uri": "https://localhost:8080/"
        },
        "id": "ob9t4KUJXj1r",
        "outputId": "77949392-cb00-4b24-d955-066875dd0039"
      },
      "execution_count": 2,
      "outputs": [
        {
          "output_type": "stream",
          "name": "stdout",
          "text": [
            "Mounted at /content/drive\n"
          ]
        }
      ]
    },
    {
      "cell_type": "code",
      "source": [
        "import pandas as pd"
      ],
      "metadata": {
        "id": "VF68Kq6WXjz2"
      },
      "execution_count": 3,
      "outputs": []
    },
    {
      "cell_type": "code",
      "source": [
        "# Read data\n",
        "df = pd.read_csv('drive/My Drive/Colab Notebooks/test.csv')\n",
        "df.head()"
      ],
      "metadata": {
        "colab": {
          "base_uri": "https://localhost:8080/",
          "height": 206
        },
        "id": "O-i-pfGcXjxg",
        "outputId": "ae71a9cb-c4fd-4054-c9b0-9693266abcbf"
      },
      "execution_count": 4,
      "outputs": [
        {
          "output_type": "execute_result",
          "data": {
            "text/plain": [
              "                                         id  \\\n",
              "0  92c514c913c0bdfe25341af9fd72b29db544099b   \n",
              "1  2003841c7dc0e7c5b1a248f9cd536d727f27a45a   \n",
              "2  91b7d2311527f5c2b63a65ca98d21d9c92485149   \n",
              "3  caabf9cbdf96eb1410295a673e953d304391bfbb   \n",
              "4  3da746a7d9afcaa659088c8366ef6347fe6b53ea   \n",
              "\n",
              "                                             article  \\\n",
              "0  Ever noticed how plane seats appear to be gett...   \n",
              "1  A drunk teenage boy had to be rescued by secur...   \n",
              "2  Dougie Freedman is on the verge of agreeing a ...   \n",
              "3  Liverpool target Neto is also wanted by PSG an...   \n",
              "4  Bruce Jenner will break his silence in a two-h...   \n",
              "\n",
              "                                          highlights  \n",
              "0  Experts question if  packed out planes are put...  \n",
              "1  Drunk teenage boy climbed into lion enclosure ...  \n",
              "2  Nottingham Forest are close to extending Dougi...  \n",
              "3  Fiorentina goalkeeper Neto has been linked wit...  \n",
              "4  Tell-all interview with the reality TV star, 6...  "
            ],
            "text/html": [
              "\n",
              "  <div id=\"df-fdb1ecfa-893f-4a40-b826-3f235582f8ef\">\n",
              "    <div class=\"colab-df-container\">\n",
              "      <div>\n",
              "<style scoped>\n",
              "    .dataframe tbody tr th:only-of-type {\n",
              "        vertical-align: middle;\n",
              "    }\n",
              "\n",
              "    .dataframe tbody tr th {\n",
              "        vertical-align: top;\n",
              "    }\n",
              "\n",
              "    .dataframe thead th {\n",
              "        text-align: right;\n",
              "    }\n",
              "</style>\n",
              "<table border=\"1\" class=\"dataframe\">\n",
              "  <thead>\n",
              "    <tr style=\"text-align: right;\">\n",
              "      <th></th>\n",
              "      <th>id</th>\n",
              "      <th>article</th>\n",
              "      <th>highlights</th>\n",
              "    </tr>\n",
              "  </thead>\n",
              "  <tbody>\n",
              "    <tr>\n",
              "      <th>0</th>\n",
              "      <td>92c514c913c0bdfe25341af9fd72b29db544099b</td>\n",
              "      <td>Ever noticed how plane seats appear to be gett...</td>\n",
              "      <td>Experts question if  packed out planes are put...</td>\n",
              "    </tr>\n",
              "    <tr>\n",
              "      <th>1</th>\n",
              "      <td>2003841c7dc0e7c5b1a248f9cd536d727f27a45a</td>\n",
              "      <td>A drunk teenage boy had to be rescued by secur...</td>\n",
              "      <td>Drunk teenage boy climbed into lion enclosure ...</td>\n",
              "    </tr>\n",
              "    <tr>\n",
              "      <th>2</th>\n",
              "      <td>91b7d2311527f5c2b63a65ca98d21d9c92485149</td>\n",
              "      <td>Dougie Freedman is on the verge of agreeing a ...</td>\n",
              "      <td>Nottingham Forest are close to extending Dougi...</td>\n",
              "    </tr>\n",
              "    <tr>\n",
              "      <th>3</th>\n",
              "      <td>caabf9cbdf96eb1410295a673e953d304391bfbb</td>\n",
              "      <td>Liverpool target Neto is also wanted by PSG an...</td>\n",
              "      <td>Fiorentina goalkeeper Neto has been linked wit...</td>\n",
              "    </tr>\n",
              "    <tr>\n",
              "      <th>4</th>\n",
              "      <td>3da746a7d9afcaa659088c8366ef6347fe6b53ea</td>\n",
              "      <td>Bruce Jenner will break his silence in a two-h...</td>\n",
              "      <td>Tell-all interview with the reality TV star, 6...</td>\n",
              "    </tr>\n",
              "  </tbody>\n",
              "</table>\n",
              "</div>\n",
              "      <button class=\"colab-df-convert\" onclick=\"convertToInteractive('df-fdb1ecfa-893f-4a40-b826-3f235582f8ef')\"\n",
              "              title=\"Convert this dataframe to an interactive table.\"\n",
              "              style=\"display:none;\">\n",
              "        \n",
              "  <svg xmlns=\"http://www.w3.org/2000/svg\" height=\"24px\"viewBox=\"0 0 24 24\"\n",
              "       width=\"24px\">\n",
              "    <path d=\"M0 0h24v24H0V0z\" fill=\"none\"/>\n",
              "    <path d=\"M18.56 5.44l.94 2.06.94-2.06 2.06-.94-2.06-.94-.94-2.06-.94 2.06-2.06.94zm-11 1L8.5 8.5l.94-2.06 2.06-.94-2.06-.94L8.5 2.5l-.94 2.06-2.06.94zm10 10l.94 2.06.94-2.06 2.06-.94-2.06-.94-.94-2.06-.94 2.06-2.06.94z\"/><path d=\"M17.41 7.96l-1.37-1.37c-.4-.4-.92-.59-1.43-.59-.52 0-1.04.2-1.43.59L10.3 9.45l-7.72 7.72c-.78.78-.78 2.05 0 2.83L4 21.41c.39.39.9.59 1.41.59.51 0 1.02-.2 1.41-.59l7.78-7.78 2.81-2.81c.8-.78.8-2.07 0-2.86zM5.41 20L4 18.59l7.72-7.72 1.47 1.35L5.41 20z\"/>\n",
              "  </svg>\n",
              "      </button>\n",
              "      \n",
              "  <style>\n",
              "    .colab-df-container {\n",
              "      display:flex;\n",
              "      flex-wrap:wrap;\n",
              "      gap: 12px;\n",
              "    }\n",
              "\n",
              "    .colab-df-convert {\n",
              "      background-color: #E8F0FE;\n",
              "      border: none;\n",
              "      border-radius: 50%;\n",
              "      cursor: pointer;\n",
              "      display: none;\n",
              "      fill: #1967D2;\n",
              "      height: 32px;\n",
              "      padding: 0 0 0 0;\n",
              "      width: 32px;\n",
              "    }\n",
              "\n",
              "    .colab-df-convert:hover {\n",
              "      background-color: #E2EBFA;\n",
              "      box-shadow: 0px 1px 2px rgba(60, 64, 67, 0.3), 0px 1px 3px 1px rgba(60, 64, 67, 0.15);\n",
              "      fill: #174EA6;\n",
              "    }\n",
              "\n",
              "    [theme=dark] .colab-df-convert {\n",
              "      background-color: #3B4455;\n",
              "      fill: #D2E3FC;\n",
              "    }\n",
              "\n",
              "    [theme=dark] .colab-df-convert:hover {\n",
              "      background-color: #434B5C;\n",
              "      box-shadow: 0px 1px 3px 1px rgba(0, 0, 0, 0.15);\n",
              "      filter: drop-shadow(0px 1px 2px rgba(0, 0, 0, 0.3));\n",
              "      fill: #FFFFFF;\n",
              "    }\n",
              "  </style>\n",
              "\n",
              "      <script>\n",
              "        const buttonEl =\n",
              "          document.querySelector('#df-fdb1ecfa-893f-4a40-b826-3f235582f8ef button.colab-df-convert');\n",
              "        buttonEl.style.display =\n",
              "          google.colab.kernel.accessAllowed ? 'block' : 'none';\n",
              "\n",
              "        async function convertToInteractive(key) {\n",
              "          const element = document.querySelector('#df-fdb1ecfa-893f-4a40-b826-3f235582f8ef');\n",
              "          const dataTable =\n",
              "            await google.colab.kernel.invokeFunction('convertToInteractive',\n",
              "                                                     [key], {});\n",
              "          if (!dataTable) return;\n",
              "\n",
              "          const docLinkHtml = 'Like what you see? Visit the ' +\n",
              "            '<a target=\"_blank\" href=https://colab.research.google.com/notebooks/data_table.ipynb>data table notebook</a>'\n",
              "            + ' to learn more about interactive tables.';\n",
              "          element.innerHTML = '';\n",
              "          dataTable['output_type'] = 'display_data';\n",
              "          await google.colab.output.renderOutput(dataTable, element);\n",
              "          const docLink = document.createElement('div');\n",
              "          docLink.innerHTML = docLinkHtml;\n",
              "          element.appendChild(docLink);\n",
              "        }\n",
              "      </script>\n",
              "    </div>\n",
              "  </div>\n",
              "  "
            ]
          },
          "metadata": {},
          "execution_count": 4
        }
      ]
    },
    {
      "cell_type": "code",
      "source": [
        "# delete the duplicated units in the column of article\n",
        "df = df[~df.article.duplicated()]"
      ],
      "metadata": {
        "id": "sUX1Aj21Xjva"
      },
      "execution_count": 5,
      "outputs": []
    },
    {
      "cell_type": "code",
      "source": [
        "df.loc[:,'article_length'] = df.article.apply(lambda x:len(x))"
      ],
      "metadata": {
        "id": "ggHmU6tmXjtV"
      },
      "execution_count": 6,
      "outputs": []
    },
    {
      "cell_type": "code",
      "source": [
        "len(df.id.unique())"
      ],
      "metadata": {
        "colab": {
          "base_uri": "https://localhost:8080/"
        },
        "id": "y2I98C89XjrA",
        "outputId": "88381da4-1093-4a08-e660-4ffdc78e6758"
      },
      "execution_count": 7,
      "outputs": [
        {
          "output_type": "execute_result",
          "data": {
            "text/plain": [
              "11488"
            ]
          },
          "metadata": {},
          "execution_count": 7
        }
      ]
    },
    {
      "cell_type": "code",
      "source": [
        "# TextRank Summarization\n",
        "import gensim\n",
        "from gensim.summarization.summarizer import summarize\n",
        "\n",
        "\"\"\"\n",
        "Summarizes corpus with TextRank.\n",
        "parameter\n",
        "---------    \n",
        "corpus: list - df[\"article\"]    \n",
        "ratio: length of the summary (20% of the article)\n",
        "return    \n",
        "list of summaries\n",
        "\"\"\"\n",
        "\n",
        "def textrank(corpus, ratio):    \n",
        "    if type(corpus) is list:        \n",
        "       corpus = [corpus]    \n",
        "    list_summaries = [gensim.summarization.summarize(article,  \n",
        "                     ratio=ratio) for article in corpus]    \n",
        "    return list_summaries\n",
        "\n",
        "## Apply the function to corpus\n",
        "summary = textrank(corpus=df[\"article\"], ratio=0.2)"
      ],
      "metadata": {
        "id": "-B6mhDjPXjoZ"
      },
      "execution_count": null,
      "outputs": []
    },
    {
      "cell_type": "code",
      "source": [
        "df['TextRank_Summary'] = summary\n",
        "df"
      ],
      "metadata": {
        "colab": {
          "base_uri": "https://localhost:8080/",
          "height": 641
        },
        "id": "KVCbPMlHXjmD",
        "outputId": "9b452383-0d17-4f9a-9714-42cb8b5ee1ef"
      },
      "execution_count": 9,
      "outputs": [
        {
          "output_type": "execute_result",
          "data": {
            "text/plain": [
              "                                             id  \\\n",
              "0      92c514c913c0bdfe25341af9fd72b29db544099b   \n",
              "1      2003841c7dc0e7c5b1a248f9cd536d727f27a45a   \n",
              "2      91b7d2311527f5c2b63a65ca98d21d9c92485149   \n",
              "3      caabf9cbdf96eb1410295a673e953d304391bfbb   \n",
              "4      3da746a7d9afcaa659088c8366ef6347fe6b53ea   \n",
              "...                                         ...   \n",
              "11485  ed8674cc15b29a87d8df8de1efee353d71122272   \n",
              "11486  2f58d1a99e9c47914e4b1c31613e3a041cd9011e   \n",
              "11487  411f6d57825161c3a037b4742baccd6cd227c0c3   \n",
              "11488  b5683ef8342056b17b068e0d59bdbe87e3fe44ea   \n",
              "11489  a6a5491edb0c96c4391b6a8c4504416b3572b3a1   \n",
              "\n",
              "                                                 article  \\\n",
              "0      Ever noticed how plane seats appear to be gett...   \n",
              "1      A drunk teenage boy had to be rescued by secur...   \n",
              "2      Dougie Freedman is on the verge of agreeing a ...   \n",
              "3      Liverpool target Neto is also wanted by PSG an...   \n",
              "4      Bruce Jenner will break his silence in a two-h...   \n",
              "...                                                  ...   \n",
              "11485  Our young Earth may have collided with a body ...   \n",
              "11486  A man facing trial for helping his former love...   \n",
              "11487  A dozen or more metal implements are arranged ...   \n",
              "11488  Brook Lopez dominated twin brother Robin with ...   \n",
              "11489  A Chinese hospital is being painstakingly move...   \n",
              "\n",
              "                                              highlights  article_length  \\\n",
              "0      Experts question if  packed out planes are put...            2126   \n",
              "1      Drunk teenage boy climbed into lion enclosure ...            1753   \n",
              "2      Nottingham Forest are close to extending Dougi...             633   \n",
              "3      Fiorentina goalkeeper Neto has been linked wit...            1790   \n",
              "4      Tell-all interview with the reality TV star, 6...            4391   \n",
              "...                                                  ...             ...   \n",
              "11485  Oxford scientists say a Mercury-like body stru...            3877   \n",
              "11486  Man accused of helping former lover kill woman...            4422   \n",
              "11487  Marianne Power tried the tuning fork facial at...            7864   \n",
              "11488  Brooklyn Nets beat the Portland Trail Blazers ...            1107   \n",
              "11489  Chinese hospital marked for demolition because...            2470   \n",
              "\n",
              "                                        TextRank_Summary  \n",
              "0      More than squabbling over the arm rest, shrink...  \n",
              "1      Next level drunk: Intoxicated Rahul Kumar, 17,...  \n",
              "2      Dougie Freedman is set to sign a new deal at N...  \n",
              "3      Liverpool target Neto is also wanted by PSG an...  \n",
              "4      The former Olympian and reality TV star, 65, w...  \n",
              "...                                                  ...  \n",
              "11485  Our current theory of Earth’s formation involv...  \n",
              "11486  A man facing trial for helping his former love...  \n",
              "11487  I'm here to try the wackiest face treatment to...  \n",
              "11488  Brook Lopez dominated twin brother Robin with ...  \n",
              "11489  The two-storey brick hospital outpatient build...  \n",
              "\n",
              "[11488 rows x 5 columns]"
            ],
            "text/html": [
              "\n",
              "  <div id=\"df-89fac670-992a-4316-a7d3-8eb6c36780e8\">\n",
              "    <div class=\"colab-df-container\">\n",
              "      <div>\n",
              "<style scoped>\n",
              "    .dataframe tbody tr th:only-of-type {\n",
              "        vertical-align: middle;\n",
              "    }\n",
              "\n",
              "    .dataframe tbody tr th {\n",
              "        vertical-align: top;\n",
              "    }\n",
              "\n",
              "    .dataframe thead th {\n",
              "        text-align: right;\n",
              "    }\n",
              "</style>\n",
              "<table border=\"1\" class=\"dataframe\">\n",
              "  <thead>\n",
              "    <tr style=\"text-align: right;\">\n",
              "      <th></th>\n",
              "      <th>id</th>\n",
              "      <th>article</th>\n",
              "      <th>highlights</th>\n",
              "      <th>article_length</th>\n",
              "      <th>TextRank_Summary</th>\n",
              "    </tr>\n",
              "  </thead>\n",
              "  <tbody>\n",
              "    <tr>\n",
              "      <th>0</th>\n",
              "      <td>92c514c913c0bdfe25341af9fd72b29db544099b</td>\n",
              "      <td>Ever noticed how plane seats appear to be gett...</td>\n",
              "      <td>Experts question if  packed out planes are put...</td>\n",
              "      <td>2126</td>\n",
              "      <td>More than squabbling over the arm rest, shrink...</td>\n",
              "    </tr>\n",
              "    <tr>\n",
              "      <th>1</th>\n",
              "      <td>2003841c7dc0e7c5b1a248f9cd536d727f27a45a</td>\n",
              "      <td>A drunk teenage boy had to be rescued by secur...</td>\n",
              "      <td>Drunk teenage boy climbed into lion enclosure ...</td>\n",
              "      <td>1753</td>\n",
              "      <td>Next level drunk: Intoxicated Rahul Kumar, 17,...</td>\n",
              "    </tr>\n",
              "    <tr>\n",
              "      <th>2</th>\n",
              "      <td>91b7d2311527f5c2b63a65ca98d21d9c92485149</td>\n",
              "      <td>Dougie Freedman is on the verge of agreeing a ...</td>\n",
              "      <td>Nottingham Forest are close to extending Dougi...</td>\n",
              "      <td>633</td>\n",
              "      <td>Dougie Freedman is set to sign a new deal at N...</td>\n",
              "    </tr>\n",
              "    <tr>\n",
              "      <th>3</th>\n",
              "      <td>caabf9cbdf96eb1410295a673e953d304391bfbb</td>\n",
              "      <td>Liverpool target Neto is also wanted by PSG an...</td>\n",
              "      <td>Fiorentina goalkeeper Neto has been linked wit...</td>\n",
              "      <td>1790</td>\n",
              "      <td>Liverpool target Neto is also wanted by PSG an...</td>\n",
              "    </tr>\n",
              "    <tr>\n",
              "      <th>4</th>\n",
              "      <td>3da746a7d9afcaa659088c8366ef6347fe6b53ea</td>\n",
              "      <td>Bruce Jenner will break his silence in a two-h...</td>\n",
              "      <td>Tell-all interview with the reality TV star, 6...</td>\n",
              "      <td>4391</td>\n",
              "      <td>The former Olympian and reality TV star, 65, w...</td>\n",
              "    </tr>\n",
              "    <tr>\n",
              "      <th>...</th>\n",
              "      <td>...</td>\n",
              "      <td>...</td>\n",
              "      <td>...</td>\n",
              "      <td>...</td>\n",
              "      <td>...</td>\n",
              "    </tr>\n",
              "    <tr>\n",
              "      <th>11485</th>\n",
              "      <td>ed8674cc15b29a87d8df8de1efee353d71122272</td>\n",
              "      <td>Our young Earth may have collided with a body ...</td>\n",
              "      <td>Oxford scientists say a Mercury-like body stru...</td>\n",
              "      <td>3877</td>\n",
              "      <td>Our current theory of Earth’s formation involv...</td>\n",
              "    </tr>\n",
              "    <tr>\n",
              "      <th>11486</th>\n",
              "      <td>2f58d1a99e9c47914e4b1c31613e3a041cd9011e</td>\n",
              "      <td>A man facing trial for helping his former love...</td>\n",
              "      <td>Man accused of helping former lover kill woman...</td>\n",
              "      <td>4422</td>\n",
              "      <td>A man facing trial for helping his former love...</td>\n",
              "    </tr>\n",
              "    <tr>\n",
              "      <th>11487</th>\n",
              "      <td>411f6d57825161c3a037b4742baccd6cd227c0c3</td>\n",
              "      <td>A dozen or more metal implements are arranged ...</td>\n",
              "      <td>Marianne Power tried the tuning fork facial at...</td>\n",
              "      <td>7864</td>\n",
              "      <td>I'm here to try the wackiest face treatment to...</td>\n",
              "    </tr>\n",
              "    <tr>\n",
              "      <th>11488</th>\n",
              "      <td>b5683ef8342056b17b068e0d59bdbe87e3fe44ea</td>\n",
              "      <td>Brook Lopez dominated twin brother Robin with ...</td>\n",
              "      <td>Brooklyn Nets beat the Portland Trail Blazers ...</td>\n",
              "      <td>1107</td>\n",
              "      <td>Brook Lopez dominated twin brother Robin with ...</td>\n",
              "    </tr>\n",
              "    <tr>\n",
              "      <th>11489</th>\n",
              "      <td>a6a5491edb0c96c4391b6a8c4504416b3572b3a1</td>\n",
              "      <td>A Chinese hospital is being painstakingly move...</td>\n",
              "      <td>Chinese hospital marked for demolition because...</td>\n",
              "      <td>2470</td>\n",
              "      <td>The two-storey brick hospital outpatient build...</td>\n",
              "    </tr>\n",
              "  </tbody>\n",
              "</table>\n",
              "<p>11488 rows × 5 columns</p>\n",
              "</div>\n",
              "      <button class=\"colab-df-convert\" onclick=\"convertToInteractive('df-89fac670-992a-4316-a7d3-8eb6c36780e8')\"\n",
              "              title=\"Convert this dataframe to an interactive table.\"\n",
              "              style=\"display:none;\">\n",
              "        \n",
              "  <svg xmlns=\"http://www.w3.org/2000/svg\" height=\"24px\"viewBox=\"0 0 24 24\"\n",
              "       width=\"24px\">\n",
              "    <path d=\"M0 0h24v24H0V0z\" fill=\"none\"/>\n",
              "    <path d=\"M18.56 5.44l.94 2.06.94-2.06 2.06-.94-2.06-.94-.94-2.06-.94 2.06-2.06.94zm-11 1L8.5 8.5l.94-2.06 2.06-.94-2.06-.94L8.5 2.5l-.94 2.06-2.06.94zm10 10l.94 2.06.94-2.06 2.06-.94-2.06-.94-.94-2.06-.94 2.06-2.06.94z\"/><path d=\"M17.41 7.96l-1.37-1.37c-.4-.4-.92-.59-1.43-.59-.52 0-1.04.2-1.43.59L10.3 9.45l-7.72 7.72c-.78.78-.78 2.05 0 2.83L4 21.41c.39.39.9.59 1.41.59.51 0 1.02-.2 1.41-.59l7.78-7.78 2.81-2.81c.8-.78.8-2.07 0-2.86zM5.41 20L4 18.59l7.72-7.72 1.47 1.35L5.41 20z\"/>\n",
              "  </svg>\n",
              "      </button>\n",
              "      \n",
              "  <style>\n",
              "    .colab-df-container {\n",
              "      display:flex;\n",
              "      flex-wrap:wrap;\n",
              "      gap: 12px;\n",
              "    }\n",
              "\n",
              "    .colab-df-convert {\n",
              "      background-color: #E8F0FE;\n",
              "      border: none;\n",
              "      border-radius: 50%;\n",
              "      cursor: pointer;\n",
              "      display: none;\n",
              "      fill: #1967D2;\n",
              "      height: 32px;\n",
              "      padding: 0 0 0 0;\n",
              "      width: 32px;\n",
              "    }\n",
              "\n",
              "    .colab-df-convert:hover {\n",
              "      background-color: #E2EBFA;\n",
              "      box-shadow: 0px 1px 2px rgba(60, 64, 67, 0.3), 0px 1px 3px 1px rgba(60, 64, 67, 0.15);\n",
              "      fill: #174EA6;\n",
              "    }\n",
              "\n",
              "    [theme=dark] .colab-df-convert {\n",
              "      background-color: #3B4455;\n",
              "      fill: #D2E3FC;\n",
              "    }\n",
              "\n",
              "    [theme=dark] .colab-df-convert:hover {\n",
              "      background-color: #434B5C;\n",
              "      box-shadow: 0px 1px 3px 1px rgba(0, 0, 0, 0.15);\n",
              "      filter: drop-shadow(0px 1px 2px rgba(0, 0, 0, 0.3));\n",
              "      fill: #FFFFFF;\n",
              "    }\n",
              "  </style>\n",
              "\n",
              "      <script>\n",
              "        const buttonEl =\n",
              "          document.querySelector('#df-89fac670-992a-4316-a7d3-8eb6c36780e8 button.colab-df-convert');\n",
              "        buttonEl.style.display =\n",
              "          google.colab.kernel.accessAllowed ? 'block' : 'none';\n",
              "\n",
              "        async function convertToInteractive(key) {\n",
              "          const element = document.querySelector('#df-89fac670-992a-4316-a7d3-8eb6c36780e8');\n",
              "          const dataTable =\n",
              "            await google.colab.kernel.invokeFunction('convertToInteractive',\n",
              "                                                     [key], {});\n",
              "          if (!dataTable) return;\n",
              "\n",
              "          const docLinkHtml = 'Like what you see? Visit the ' +\n",
              "            '<a target=\"_blank\" href=https://colab.research.google.com/notebooks/data_table.ipynb>data table notebook</a>'\n",
              "            + ' to learn more about interactive tables.';\n",
              "          element.innerHTML = '';\n",
              "          dataTable['output_type'] = 'display_data';\n",
              "          await google.colab.output.renderOutput(dataTable, element);\n",
              "          const docLink = document.createElement('div');\n",
              "          docLink.innerHTML = docLinkHtml;\n",
              "          element.appendChild(docLink);\n",
              "        }\n",
              "      </script>\n",
              "    </div>\n",
              "  </div>\n",
              "  "
            ]
          },
          "metadata": {},
          "execution_count": 9
        }
      ]
    },
    {
      "cell_type": "code",
      "source": [
        "print(\"Textrank Summary:\")\n",
        "print(df['TextRank_Summary'][1])\n",
        "print(\"--------------------------------------------------------------------------\")\n",
        "print(\"Original Highlights:\")\n",
        "print(df['highlights'][1])"
      ],
      "metadata": {
        "colab": {
          "base_uri": "https://localhost:8080/"
        },
        "id": "IM_e0pxOXjjL",
        "outputId": "260246a0-8460-40bf-9fa0-bffef039531c"
      },
      "execution_count": 14,
      "outputs": [
        {
          "output_type": "stream",
          "name": "stdout",
          "text": [
            "Textrank Summary:\n",
            "Next level drunk: Intoxicated Rahul Kumar, 17, climbed into the lions' enclosure at a zoo in Ahmedabad and began running towards the animals shouting 'Today I kill a lion!' Mr Kumar had been sitting near the enclosure when he suddenly made a dash for the lions, surprising zoo security.\n",
            "--------------------------------------------------------------------------\n",
            "Original Highlights:\n",
            "Drunk teenage boy climbed into lion enclosure at zoo in west India .\n",
            "Rahul Kumar, 17, ran towards animals shouting 'Today I kill a lion!'\n",
            "Fortunately he fell into a moat before reaching lions and was rescued .\n"
          ]
        }
      ]
    },
    {
      "cell_type": "markdown",
      "source": [
        "## Evaluation for Textrank"
      ],
      "metadata": {
        "id": "116YJY2rYPym"
      }
    },
    {
      "cell_type": "code",
      "source": [
        "# Install and import rouge\n",
        "!pip install rouge\n",
        "from rouge import Rouge"
      ],
      "metadata": {
        "colab": {
          "base_uri": "https://localhost:8080/"
        },
        "id": "J-mfE59OXjgj",
        "outputId": "72f0d9c2-c0c9-4346-dc3c-68da7490180b"
      },
      "execution_count": 11,
      "outputs": [
        {
          "output_type": "stream",
          "name": "stdout",
          "text": [
            "Looking in indexes: https://pypi.org/simple, https://us-python.pkg.dev/colab-wheels/public/simple/\n",
            "Collecting rouge\n",
            "  Downloading rouge-1.0.1-py3-none-any.whl (13 kB)\n",
            "Requirement already satisfied: six in /usr/local/lib/python3.8/dist-packages (from rouge) (1.15.0)\n",
            "Installing collected packages: rouge\n",
            "Successfully installed rouge-1.0.1\n"
          ]
        }
      ]
    },
    {
      "cell_type": "code",
      "source": [
        "rouge = Rouge()\n",
        "rouge.get_scores(summary, df.highlights, avg=True, ignore_empty=True)"
      ],
      "metadata": {
        "colab": {
          "base_uri": "https://localhost:8080/"
        },
        "id": "d5usa7lsYNFT",
        "outputId": "b2043073-a2fa-479b-c23f-2c3124998a01"
      },
      "execution_count": 12,
      "outputs": [
        {
          "output_type": "execute_result",
          "data": {
            "text/plain": [
              "{'rouge-1': {'r': 0.5165796733759895,\n",
              "  'p': 0.24919757996768577,\n",
              "  'f': 0.31428219244562355},\n",
              " 'rouge-2': {'r': 0.22099304176471654,\n",
              "  'p': 0.09517792911078259,\n",
              "  'f': 0.12153481499816275},\n",
              " 'rouge-l': {'r': 0.48139013410614534,\n",
              "  'p': 0.23144944584797306,\n",
              "  'f': 0.29221318382432016}}"
            ]
          },
          "metadata": {},
          "execution_count": 12
        }
      ]
    },
    {
      "cell_type": "markdown",
      "source": [
        "## Reference"
      ],
      "metadata": {
        "id": "-bc8tJdRYhFA"
      }
    },
    {
      "cell_type": "markdown",
      "source": [
        "https://towardsdatascience.com/text-summarization-with-nlp-textrank-vs-seq2seq-vs-bart-474943efeb09\n"
      ],
      "metadata": {
        "id": "mRO5uG7bZGD_"
      }
    }
  ]
}
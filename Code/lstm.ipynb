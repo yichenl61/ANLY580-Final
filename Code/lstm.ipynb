{
  "cells": [
    {
      "cell_type": "code",
      "execution_count": null,
      "metadata": {
        "id": "FDNpgvAQ6Z1m"
      },
      "outputs": [],
      "source": [
        "# data set: https://www.kaggle.com/datasets/gowrishankarp/newspaper-text-summarization-cnn-dailymail"
      ]
    },
    {
      "cell_type": "code",
      "execution_count": null,
      "metadata": {
        "colab": {
          "base_uri": "https://localhost:8080/"
        },
        "id": "kf1esIGX7MKO",
        "outputId": "5b87d23d-baab-4415-b960-96bae7affd03"
      },
      "outputs": [
        {
          "output_type": "stream",
          "name": "stdout",
          "text": [
            "Mounted at /content/drive\n"
          ]
        }
      ],
      "source": [
        "from google.colab import drive\n",
        "drive.mount('/content/drive')"
      ]
    },
    {
      "cell_type": "markdown",
      "metadata": {
        "id": "vGpCCEfeVt1G"
      },
      "source": [
        "## bidirectional- LSTM"
      ]
    },
    {
      "cell_type": "code",
      "execution_count": null,
      "metadata": {
        "colab": {
          "base_uri": "https://localhost:8080/"
        },
        "id": "W3YJFp5EAwjR",
        "outputId": "b7fa54d6-1933-4539-a320-801b2a90656f"
      },
      "outputs": [
        {
          "output_type": "stream",
          "name": "stdout",
          "text": [
            "Looking in indexes: https://pypi.org/simple, https://us-python.pkg.dev/colab-wheels/public/simple/\n",
            "Collecting contractions\n",
            "  Downloading contractions-0.1.73-py2.py3-none-any.whl (8.7 kB)\n",
            "Collecting textsearch>=0.0.21\n",
            "  Downloading textsearch-0.0.24-py2.py3-none-any.whl (7.6 kB)\n",
            "Collecting pyahocorasick\n",
            "  Downloading pyahocorasick-1.4.4-cp38-cp38-manylinux_2_17_x86_64.manylinux2014_x86_64.whl (110 kB)\n",
            "\u001b[K     |████████████████████████████████| 110 kB 5.0 MB/s \n",
            "\u001b[?25hCollecting anyascii\n",
            "  Downloading anyascii-0.3.1-py3-none-any.whl (287 kB)\n",
            "\u001b[K     |████████████████████████████████| 287 kB 39.7 MB/s \n",
            "\u001b[?25hInstalling collected packages: pyahocorasick, anyascii, textsearch, contractions\n",
            "Successfully installed anyascii-0.3.1 contractions-0.1.73 pyahocorasick-1.4.4 textsearch-0.0.24\n"
          ]
        }
      ],
      "source": [
        "! pip install contractions"
      ]
    },
    {
      "cell_type": "code",
      "execution_count": null,
      "metadata": {
        "id": "6KcK1dYXGE5o"
      },
      "outputs": [],
      "source": [
        "# import the packages that needed \n",
        "import pandas as pd\n",
        "import numpy as np\n",
        "from sklearn.model_selection import train_test_split\n",
        "import tensorflow as tf\n",
        "from tensorflow import keras\n",
        "from keras.preprocessing.text import Tokenizer\n",
        "from keras_preprocessing.sequence import pad_sequences\n",
        "from tensorflow.keras.layers import LSTM, Dense, Input, Embedding, Concatenate, TimeDistributed, Bidirectional, GRU\n",
        "# from tensorflow.keras.models import Model\n",
        "from tensorflow.keras.callbacks import EarlyStopping\n",
        "from rouge import Rouge\n",
        "import contractions\n",
        "import re"
      ]
    },
    {
      "cell_type": "code",
      "execution_count": null,
      "metadata": {
        "colab": {
          "base_uri": "https://localhost:8080/",
          "height": 206
        },
        "id": "TjwC6uZSGMdz",
        "outputId": "03b245de-942d-4c4b-adff-f70f340134dc"
      },
      "outputs": [
        {
          "output_type": "execute_result",
          "data": {
            "text/plain": [
              "                                             article  \\\n",
              "0  (CNN) -- To the casual observer, Cristiano Ron...   \n",
              "1  Smokers beware - Queensland Health's latest an...   \n",
              "2  By . Amanda Williams . PUBLISHED: . 11:36 EST,...   \n",
              "3  Watch the full interview with Larry Flynt toni...   \n",
              "4  By . Rob Cooper . PUBLISHED: . 07:32 EST, 22 O...   \n",
              "\n",
              "                                          highlights  \n",
              "0  Cristiano Ronaldo says Real Madrid are under p...  \n",
              "1  'If you smoke, your future's not pretty', Quee...  \n",
              "2  In Scotland temperatures in some areas will di...  \n",
              "3  Larry Flynt: \"I've done a great deal to expand...  \n",
              "4  Boy stole £2,000 when he held up the Barclays ...  "
            ],
            "text/html": [
              "\n",
              "  <div id=\"df-99ddfd9e-db02-44b4-9f36-34dc2319b268\">\n",
              "    <div class=\"colab-df-container\">\n",
              "      <div>\n",
              "<style scoped>\n",
              "    .dataframe tbody tr th:only-of-type {\n",
              "        vertical-align: middle;\n",
              "    }\n",
              "\n",
              "    .dataframe tbody tr th {\n",
              "        vertical-align: top;\n",
              "    }\n",
              "\n",
              "    .dataframe thead th {\n",
              "        text-align: right;\n",
              "    }\n",
              "</style>\n",
              "<table border=\"1\" class=\"dataframe\">\n",
              "  <thead>\n",
              "    <tr style=\"text-align: right;\">\n",
              "      <th></th>\n",
              "      <th>article</th>\n",
              "      <th>highlights</th>\n",
              "    </tr>\n",
              "  </thead>\n",
              "  <tbody>\n",
              "    <tr>\n",
              "      <th>0</th>\n",
              "      <td>(CNN) -- To the casual observer, Cristiano Ron...</td>\n",
              "      <td>Cristiano Ronaldo says Real Madrid are under p...</td>\n",
              "    </tr>\n",
              "    <tr>\n",
              "      <th>1</th>\n",
              "      <td>Smokers beware - Queensland Health's latest an...</td>\n",
              "      <td>'If you smoke, your future's not pretty', Quee...</td>\n",
              "    </tr>\n",
              "    <tr>\n",
              "      <th>2</th>\n",
              "      <td>By . Amanda Williams . PUBLISHED: . 11:36 EST,...</td>\n",
              "      <td>In Scotland temperatures in some areas will di...</td>\n",
              "    </tr>\n",
              "    <tr>\n",
              "      <th>3</th>\n",
              "      <td>Watch the full interview with Larry Flynt toni...</td>\n",
              "      <td>Larry Flynt: \"I've done a great deal to expand...</td>\n",
              "    </tr>\n",
              "    <tr>\n",
              "      <th>4</th>\n",
              "      <td>By . Rob Cooper . PUBLISHED: . 07:32 EST, 22 O...</td>\n",
              "      <td>Boy stole £2,000 when he held up the Barclays ...</td>\n",
              "    </tr>\n",
              "  </tbody>\n",
              "</table>\n",
              "</div>\n",
              "      <button class=\"colab-df-convert\" onclick=\"convertToInteractive('df-99ddfd9e-db02-44b4-9f36-34dc2319b268')\"\n",
              "              title=\"Convert this dataframe to an interactive table.\"\n",
              "              style=\"display:none;\">\n",
              "        \n",
              "  <svg xmlns=\"http://www.w3.org/2000/svg\" height=\"24px\"viewBox=\"0 0 24 24\"\n",
              "       width=\"24px\">\n",
              "    <path d=\"M0 0h24v24H0V0z\" fill=\"none\"/>\n",
              "    <path d=\"M18.56 5.44l.94 2.06.94-2.06 2.06-.94-2.06-.94-.94-2.06-.94 2.06-2.06.94zm-11 1L8.5 8.5l.94-2.06 2.06-.94-2.06-.94L8.5 2.5l-.94 2.06-2.06.94zm10 10l.94 2.06.94-2.06 2.06-.94-2.06-.94-.94-2.06-.94 2.06-2.06.94z\"/><path d=\"M17.41 7.96l-1.37-1.37c-.4-.4-.92-.59-1.43-.59-.52 0-1.04.2-1.43.59L10.3 9.45l-7.72 7.72c-.78.78-.78 2.05 0 2.83L4 21.41c.39.39.9.59 1.41.59.51 0 1.02-.2 1.41-.59l7.78-7.78 2.81-2.81c.8-.78.8-2.07 0-2.86zM5.41 20L4 18.59l7.72-7.72 1.47 1.35L5.41 20z\"/>\n",
              "  </svg>\n",
              "      </button>\n",
              "      \n",
              "  <style>\n",
              "    .colab-df-container {\n",
              "      display:flex;\n",
              "      flex-wrap:wrap;\n",
              "      gap: 12px;\n",
              "    }\n",
              "\n",
              "    .colab-df-convert {\n",
              "      background-color: #E8F0FE;\n",
              "      border: none;\n",
              "      border-radius: 50%;\n",
              "      cursor: pointer;\n",
              "      display: none;\n",
              "      fill: #1967D2;\n",
              "      height: 32px;\n",
              "      padding: 0 0 0 0;\n",
              "      width: 32px;\n",
              "    }\n",
              "\n",
              "    .colab-df-convert:hover {\n",
              "      background-color: #E2EBFA;\n",
              "      box-shadow: 0px 1px 2px rgba(60, 64, 67, 0.3), 0px 1px 3px 1px rgba(60, 64, 67, 0.15);\n",
              "      fill: #174EA6;\n",
              "    }\n",
              "\n",
              "    [theme=dark] .colab-df-convert {\n",
              "      background-color: #3B4455;\n",
              "      fill: #D2E3FC;\n",
              "    }\n",
              "\n",
              "    [theme=dark] .colab-df-convert:hover {\n",
              "      background-color: #434B5C;\n",
              "      box-shadow: 0px 1px 3px 1px rgba(0, 0, 0, 0.15);\n",
              "      filter: drop-shadow(0px 1px 2px rgba(0, 0, 0, 0.3));\n",
              "      fill: #FFFFFF;\n",
              "    }\n",
              "  </style>\n",
              "\n",
              "      <script>\n",
              "        const buttonEl =\n",
              "          document.querySelector('#df-99ddfd9e-db02-44b4-9f36-34dc2319b268 button.colab-df-convert');\n",
              "        buttonEl.style.display =\n",
              "          google.colab.kernel.accessAllowed ? 'block' : 'none';\n",
              "\n",
              "        async function convertToInteractive(key) {\n",
              "          const element = document.querySelector('#df-99ddfd9e-db02-44b4-9f36-34dc2319b268');\n",
              "          const dataTable =\n",
              "            await google.colab.kernel.invokeFunction('convertToInteractive',\n",
              "                                                     [key], {});\n",
              "          if (!dataTable) return;\n",
              "\n",
              "          const docLinkHtml = 'Like what you see? Visit the ' +\n",
              "            '<a target=\"_blank\" href=https://colab.research.google.com/notebooks/data_table.ipynb>data table notebook</a>'\n",
              "            + ' to learn more about interactive tables.';\n",
              "          element.innerHTML = '';\n",
              "          dataTable['output_type'] = 'display_data';\n",
              "          await google.colab.output.renderOutput(dataTable, element);\n",
              "          const docLink = document.createElement('div');\n",
              "          docLink.innerHTML = docLinkHtml;\n",
              "          element.appendChild(docLink);\n",
              "        }\n",
              "      </script>\n",
              "    </div>\n",
              "  </div>\n",
              "  "
            ]
          },
          "metadata": {},
          "execution_count": 8
        }
      ],
      "source": [
        "df = pd.read_csv('drive/My Drive/Colab Notebooks/cnn_dailymail/train.csv')\n",
        "# delete the duplicated units in the column of article\n",
        "df = df.drop(['id'], axis=1)\n",
        "# only use parts of the training samples\n",
        "df = df.sample(frac=0.05)\n",
        "df = df[~df.article.duplicated()]\n",
        "df.reset_index(drop=True,inplace=True)\n",
        "df.head(5)"
      ]
    },
    {
      "cell_type": "code",
      "execution_count": null,
      "metadata": {
        "id": "H03xd96oGnA3"
      },
      "outputs": [],
      "source": [
        "def clean_text(text,remove_stopwords=True):\n",
        "    # the pipeline to clean the text\n",
        "    # expand the contractions\n",
        "    text = contractions.fix(text)\n",
        "    text = text.lower()\n",
        "    text = re.sub(r'https?:\\/\\/.*[\\r\\n]*', '', text, flags=re.MULTILINE)\n",
        "    text = re.sub(r'\\<a href', ' ', text)\n",
        "    text = re.sub(r'&amp;', '', text) \n",
        "    text = re.sub(r'[_\"\\-;%()|+&=*%.,!?:#$@\\[\\]/]', ' ', text)\n",
        "    text = re.sub(r'<br />', ' ', text)\n",
        "    text = re.sub(r'\\'', ' ', text)\n",
        "\n",
        "    if remove_stopwords:\n",
        "        text = text.split()\n",
        "        stops = set(stopwords.words('english'))\n",
        "        text = [w for w in text if w not in stops]\n",
        "        text = ' '.join(text)\n",
        "    return text"
      ]
    },
    {
      "cell_type": "code",
      "execution_count": null,
      "metadata": {
        "colab": {
          "base_uri": "https://localhost:8080/"
        },
        "id": "0yds9mTJGr1i",
        "outputId": "eed77fad-3ba2-4b35-fb43-231fecb42e15"
      },
      "outputs": [
        {
          "output_type": "stream",
          "name": "stderr",
          "text": [
            "[nltk_data] Downloading package stopwords to /root/nltk_data...\n",
            "[nltk_data]   Unzipping corpora/stopwords.zip.\n"
          ]
        },
        {
          "output_type": "stream",
          "name": "stdout",
          "text": [
            "-----------Cleaning Summaries Complete-----------\n",
            "-----------Cleaning Texts Complete-----------\n"
          ]
        }
      ],
      "source": [
        "import nltk\n",
        "nltk.download('stopwords')\n",
        "from nltk.corpus import stopwords\n",
        "\n",
        "clean_summaries = []\n",
        "for summary in df.highlights:\n",
        "    clean_summaries.append(clean_text(summary, remove_stopwords=False))\n",
        "print('-----------Cleaning Summaries Complete-----------')\n",
        "\n",
        "# clean the text and remove the stopwords\n",
        "clean_texts = []\n",
        "for text in df.article:\n",
        "    clean_texts.append(clean_text(text))\n",
        "print('-----------Cleaning Texts Complete-----------')"
      ]
    },
    {
      "cell_type": "code",
      "execution_count": null,
      "metadata": {
        "id": "nFFVjQnFGwb0"
      },
      "outputs": [],
      "source": [
        "data = {\n",
        "    'text':clean_texts,\n",
        "    'highlight':clean_summaries\n",
        "}\n",
        "clean_df = pd.DataFrame(data=data)\n",
        "clean_df.loc[:,'text_length'] = clean_df['text'].apply(lambda x:len(x.split()))\n",
        "clean_df.loc[:,'highlight_length'] = clean_df['highlight'].apply(lambda x:len(x.split()))"
      ]
    },
    {
      "cell_type": "code",
      "execution_count": null,
      "metadata": {
        "colab": {
          "base_uri": "https://localhost:8080/",
          "height": 411
        },
        "id": "PMnldwQLGyvJ",
        "outputId": "77640c3d-e27b-4e4e-c7bb-510038db0349"
      },
      "outputs": [
        {
          "output_type": "execute_result",
          "data": {
            "text/plain": [
              "[(0.0, 200.0)]"
            ]
          },
          "metadata": {},
          "execution_count": 12
        },
        {
          "output_type": "display_data",
          "data": {
            "text/plain": [
              "<Figure size 1080x432 with 2 Axes>"
            ],
            "image/png": "[encoded data removed]"
          },
          "metadata": {}
        }
      ],
      "source": [
        "# visualize the word_length of both the text and the highlight\n",
        "import matplotlib.pyplot as plt\n",
        "import seaborn as sns\n",
        "sns.set(style='darkgrid')\n",
        "fig,ax = plt.subplots(nrows=1,ncols=2,squeeze=True,figsize=(15,6))\n",
        "sns.histplot(x='text_length',data=clean_df,ax=ax[0],kde=True)\n",
        "sns.histplot(x='highlight_length',data=clean_df,ax=ax[1],kde=True).set(xlim=(0,200))"
      ]
    },
    {
      "cell_type": "code",
      "execution_count": null,
      "metadata": {
        "id": "8pSYMiYoIWpD"
      },
      "outputs": [],
      "source": [
        "max_text_len=800\n",
        "max_summary_len=100"
      ]
    },
    {
      "cell_type": "code",
      "execution_count": null,
      "metadata": {
        "colab": {
          "base_uri": "https://localhost:8080/"
        },
        "id": "17Wofi0DIJqI",
        "outputId": "e23715d2-aec4-452c-9317-ce6ab8a5ba1a"
      },
      "outputs": [
        {
          "output_type": "stream",
          "name": "stdout",
          "text": [
            "0.9549700264882197\n"
          ]
        }
      ],
      "source": [
        "cnt=0\n",
        "for i in clean_df['text']:\n",
        "    if(len(i.split())<=max_text_len):\n",
        "        cnt=cnt+1\n",
        "print(cnt/len(clean_df['text']))"
      ]
    },
    {
      "cell_type": "code",
      "execution_count": null,
      "metadata": {
        "colab": {
          "base_uri": "https://localhost:8080/"
        },
        "id": "IlOddmFJQ5ZB",
        "outputId": "ccc5810b-4788-4d5a-d408-fad8c4bd380a"
      },
      "outputs": [
        {
          "output_type": "stream",
          "name": "stdout",
          "text": [
            "0.9769273665133138\n"
          ]
        }
      ],
      "source": [
        "cnt=0\n",
        "for i in clean_df['highlight']:\n",
        "    if(len(i.split())<=max_summary_len):\n",
        "        cnt=cnt+1\n",
        "print(cnt/len(clean_df['highlight']))"
      ]
    },
    {
      "cell_type": "code",
      "execution_count": null,
      "metadata": {
        "colab": {
          "base_uri": "https://localhost:8080/",
          "height": 206
        },
        "id": "-N_hXewpRZFM",
        "outputId": "eb18d050-faba-42ac-df27-79d7c32a27b2"
      },
      "outputs": [
        {
          "output_type": "execute_result",
          "data": {
            "text/plain": [
              "                                                text  \\\n",
              "0  cnn casual observer cristiano ronaldo look lik...   \n",
              "1  smokers beware queensland health latest anti s...   \n",
              "2  amanda williams published 11 36 est 8 october ...   \n",
              "3  watch full interview larry flynt tonight piers...   \n",
              "4  rob cooper published 07 32 est 22 october 2013...   \n",
              "\n",
              "                                           highlight  text_length  \\\n",
              "0  sostok cristiano ronaldo says real madrid are ...        384.0   \n",
              "1  sostok  if you smoke  your future s not pretty...        338.0   \n",
              "2  sostok in scotland temperatures in some areas ...        315.0   \n",
              "3  sostok larry flynt   i have done a great deal ...        408.0   \n",
              "4  sostok boy stole £2 000 when he held up the ba...        515.0   \n",
              "\n",
              "   highlight_length  \n",
              "0              59.0  \n",
              "1              59.0  \n",
              "2              35.0  \n",
              "3              38.0  \n",
              "4              56.0  "
            ],
            "text/html": [
              "\n",
              "  <div id=\"df-97c589d8-703c-4824-accb-724da338bdb1\">\n",
              "    <div class=\"colab-df-container\">\n",
              "      <div>\n",
              "<style scoped>\n",
              "    .dataframe tbody tr th:only-of-type {\n",
              "        vertical-align: middle;\n",
              "    }\n",
              "\n",
              "    .dataframe tbody tr th {\n",
              "        vertical-align: top;\n",
              "    }\n",
              "\n",
              "    .dataframe thead th {\n",
              "        text-align: right;\n",
              "    }\n",
              "</style>\n",
              "<table border=\"1\" class=\"dataframe\">\n",
              "  <thead>\n",
              "    <tr style=\"text-align: right;\">\n",
              "      <th></th>\n",
              "      <th>text</th>\n",
              "      <th>highlight</th>\n",
              "      <th>text_length</th>\n",
              "      <th>highlight_length</th>\n",
              "    </tr>\n",
              "  </thead>\n",
              "  <tbody>\n",
              "    <tr>\n",
              "      <th>0</th>\n",
              "      <td>cnn casual observer cristiano ronaldo look lik...</td>\n",
              "      <td>sostok cristiano ronaldo says real madrid are ...</td>\n",
              "      <td>384.0</td>\n",
              "      <td>59.0</td>\n",
              "    </tr>\n",
              "    <tr>\n",
              "      <th>1</th>\n",
              "      <td>smokers beware queensland health latest anti s...</td>\n",
              "      <td>sostok  if you smoke  your future s not pretty...</td>\n",
              "      <td>338.0</td>\n",
              "      <td>59.0</td>\n",
              "    </tr>\n",
              "    <tr>\n",
              "      <th>2</th>\n",
              "      <td>amanda williams published 11 36 est 8 october ...</td>\n",
              "      <td>sostok in scotland temperatures in some areas ...</td>\n",
              "      <td>315.0</td>\n",
              "      <td>35.0</td>\n",
              "    </tr>\n",
              "    <tr>\n",
              "      <th>3</th>\n",
              "      <td>watch full interview larry flynt tonight piers...</td>\n",
              "      <td>sostok larry flynt   i have done a great deal ...</td>\n",
              "      <td>408.0</td>\n",
              "      <td>38.0</td>\n",
              "    </tr>\n",
              "    <tr>\n",
              "      <th>4</th>\n",
              "      <td>rob cooper published 07 32 est 22 october 2013...</td>\n",
              "      <td>sostok boy stole £2 000 when he held up the ba...</td>\n",
              "      <td>515.0</td>\n",
              "      <td>56.0</td>\n",
              "    </tr>\n",
              "  </tbody>\n",
              "</table>\n",
              "</div>\n",
              "      <button class=\"colab-df-convert\" onclick=\"convertToInteractive('df-97c589d8-703c-4824-accb-724da338bdb1')\"\n",
              "              title=\"Convert this dataframe to an interactive table.\"\n",
              "              style=\"display:none;\">\n",
              "        \n",
              "  <svg xmlns=\"http://www.w3.org/2000/svg\" height=\"24px\"viewBox=\"0 0 24 24\"\n",
              "       width=\"24px\">\n",
              "    <path d=\"M0 0h24v24H0V0z\" fill=\"none\"/>\n",
              "    <path d=\"M18.56 5.44l.94 2.06.94-2.06 2.06-.94-2.06-.94-.94-2.06-.94 2.06-2.06.94zm-11 1L8.5 8.5l.94-2.06 2.06-.94-2.06-.94L8.5 2.5l-.94 2.06-2.06.94zm10 10l.94 2.06.94-2.06 2.06-.94-2.06-.94-.94-2.06-.94 2.06-2.06.94z\"/><path d=\"M17.41 7.96l-1.37-1.37c-.4-.4-.92-.59-1.43-.59-.52 0-1.04.2-1.43.59L10.3 9.45l-7.72 7.72c-.78.78-.78 2.05 0 2.83L4 21.41c.39.39.9.59 1.41.59.51 0 1.02-.2 1.41-.59l7.78-7.78 2.81-2.81c.8-.78.8-2.07 0-2.86zM5.41 20L4 18.59l7.72-7.72 1.47 1.35L5.41 20z\"/>\n",
              "  </svg>\n",
              "      </button>\n",
              "      \n",
              "  <style>\n",
              "    .colab-df-container {\n",
              "      display:flex;\n",
              "      flex-wrap:wrap;\n",
              "      gap: 12px;\n",
              "    }\n",
              "\n",
              "    .colab-df-convert {\n",
              "      background-color: #E8F0FE;\n",
              "      border: none;\n",
              "      border-radius: 50%;\n",
              "      cursor: pointer;\n",
              "      display: none;\n",
              "      fill: #1967D2;\n",
              "      height: 32px;\n",
              "      padding: 0 0 0 0;\n",
              "      width: 32px;\n",
              "    }\n",
              "\n",
              "    .colab-df-convert:hover {\n",
              "      background-color: #E2EBFA;\n",
              "      box-shadow: 0px 1px 2px rgba(60, 64, 67, 0.3), 0px 1px 3px 1px rgba(60, 64, 67, 0.15);\n",
              "      fill: #174EA6;\n",
              "    }\n",
              "\n",
              "    [theme=dark] .colab-df-convert {\n",
              "      background-color: #3B4455;\n",
              "      fill: #D2E3FC;\n",
              "    }\n",
              "\n",
              "    [theme=dark] .colab-df-convert:hover {\n",
              "      background-color: #434B5C;\n",
              "      box-shadow: 0px 1px 3px 1px rgba(0, 0, 0, 0.15);\n",
              "      filter: drop-shadow(0px 1px 2px rgba(0, 0, 0, 0.3));\n",
              "      fill: #FFFFFF;\n",
              "    }\n",
              "  </style>\n",
              "\n",
              "      <script>\n",
              "        const buttonEl =\n",
              "          document.querySelector('#df-97c589d8-703c-4824-accb-724da338bdb1 button.colab-df-convert');\n",
              "        buttonEl.style.display =\n",
              "          google.colab.kernel.accessAllowed ? 'block' : 'none';\n",
              "\n",
              "        async function convertToInteractive(key) {\n",
              "          const element = document.querySelector('#df-97c589d8-703c-4824-accb-724da338bdb1');\n",
              "          const dataTable =\n",
              "            await google.colab.kernel.invokeFunction('convertToInteractive',\n",
              "                                                     [key], {});\n",
              "          if (!dataTable) return;\n",
              "\n",
              "          const docLinkHtml = 'Like what you see? Visit the ' +\n",
              "            '<a target=\"_blank\" href=https://colab.research.google.com/notebooks/data_table.ipynb>data table notebook</a>'\n",
              "            + ' to learn more about interactive tables.';\n",
              "          element.innerHTML = '';\n",
              "          dataTable['output_type'] = 'display_data';\n",
              "          await google.colab.output.renderOutput(dataTable, element);\n",
              "          const docLink = document.createElement('div');\n",
              "          docLink.innerHTML = docLinkHtml;\n",
              "          element.appendChild(docLink);\n",
              "        }\n",
              "      </script>\n",
              "    </div>\n",
              "  </div>\n",
              "  "
            ]
          },
          "metadata": {},
          "execution_count": 16
        }
      ],
      "source": [
        "clean_df = clean_df.where((clean_df['text_length'] < max_text_len) & (clean_df['highlight_length'] < max_summary_len)).reset_index(drop=True)\n",
        "clean_df.highlight = clean_df.highlight.apply(lambda x : 'sostok '+ str(x) + ' eostok')\n",
        "clean_df.dropna(how='any',inplace=True)\n",
        "clean_df.head()"
      ]
    },
    {
      "cell_type": "code",
      "execution_count": null,
      "metadata": {
        "id": "v7kvDFkqUpWK"
      },
      "outputs": [],
      "source": [
        "# split the data into train and validation group\n",
        "train_x, val_x, train_y, val_y = train_test_split(clean_df['text'], clean_df['highlight'], test_size=0.1, random_state=123)\n"
      ]
    },
    {
      "cell_type": "code",
      "execution_count": null,
      "metadata": {
        "colab": {
          "base_uri": "https://localhost:8080/"
        },
        "id": "MH5opKLnUpyX",
        "outputId": "4ee76f61-bb20-4271-ba10-d55967982cab"
      },
      "outputs": [
        {
          "output_type": "stream",
          "name": "stdout",
          "text": [
            "Text Vocab:  46721\n"
          ]
        }
      ],
      "source": [
        "t_tokenizer = Tokenizer()\n",
        "t_tokenizer.fit_on_texts(list(train_x))\n",
        "thresh = 4\n",
        "count = 0\n",
        "total_count = 0\n",
        "frequency = 0\n",
        "total_frequency = 0\n",
        "\n",
        "for key, value in t_tokenizer.word_counts.items():\n",
        "    total_count += 1\n",
        "    total_frequency += value\n",
        "\n",
        "    if value < thresh:\n",
        "        count += 1\n",
        "        frequency += value\n",
        "# use the common words, substract rare words from the total vocabulary \n",
        "t_max_features = total_count - count\n",
        "print('Text Vocab: ', t_max_features)"
      ]
    },
    {
      "cell_type": "code",
      "execution_count": null,
      "metadata": {
        "id": "5ptXLVvoVril"
      },
      "outputs": [],
      "source": [
        "# reassign a tokenizer\n",
        "maxlen_text = 800\n",
        "maxlen_sum = 100\n",
        "\n",
        "t_tokenizer = Tokenizer(num_words=t_max_features)\n",
        "t_tokenizer.fit_on_texts(list(train_x))\n",
        "train_x = t_tokenizer.texts_to_sequences(train_x)\n",
        "train_x = pad_sequences(train_x, maxlen=maxlen_text, padding='post')"
      ]
    },
    {
      "cell_type": "code",
      "execution_count": null,
      "metadata": {
        "colab": {
          "base_uri": "https://localhost:8080/"
        },
        "id": "n77zhe3IVs-B",
        "outputId": "471588f1-915e-40ba-f5d0-439480f843b9"
      },
      "outputs": [
        {
          "output_type": "execute_result",
          "data": {
            "text/plain": [
              "8915"
            ]
          },
          "metadata": {},
          "execution_count": 20
        }
      ],
      "source": [
        "s_tokenizer = Tokenizer()\n",
        "s_tokenizer.fit_on_texts(list(train_y))\n",
        "\n",
        "thresh = 6\n",
        "count = 0\n",
        "total_count = 0\n",
        "frequency = 0\n",
        "total_frequency = 0\n",
        "\n",
        "for key, value in s_tokenizer.word_counts.items():\n",
        "    total_count += 1\n",
        "    total_frequency += value\n",
        "    if value < thresh:\n",
        "        count += 1\n",
        "        frequency += value\n",
        "s_max_features = total_count-count\n",
        "s_max_features"
      ]
    },
    {
      "cell_type": "code",
      "execution_count": null,
      "metadata": {
        "id": "jGpxeHx5VtEt"
      },
      "outputs": [],
      "source": [
        "s_tokenizer = Tokenizer(num_words=s_max_features)\n",
        "s_tokenizer.fit_on_texts(list(train_y))\n",
        "train_y = s_tokenizer.texts_to_sequences(train_y)\n",
        "train_y = pad_sequences(train_y, maxlen=maxlen_sum, padding='post')"
      ]
    },
    {
      "cell_type": "code",
      "execution_count": null,
      "metadata": {
        "id": "6KofEpjXVtH2"
      },
      "outputs": [],
      "source": [
        "# validation dataset\n",
        "val_x = t_tokenizer.texts_to_sequences(val_x)\n",
        "val_x = pad_sequences(val_x, maxlen=maxlen_text, padding='post')\n",
        "\n",
        "val_y = s_tokenizer.texts_to_sequences(val_y)\n",
        "val_y = pad_sequences(val_y, maxlen=maxlen_sum, padding='post')"
      ]
    },
    {
      "cell_type": "code",
      "execution_count": null,
      "metadata": {
        "id": "oUkU755FVtKX"
      },
      "outputs": [],
      "source": [
        "# pretrained embedding from gloves\n",
        "embedding_index = {}\n",
        "# first use 100 dimension to test the word embedding result\n",
        "dim = 100\n",
        "with open('drive/My Drive/Colab Notebooks/glove.6B/glove.6B.100d.txt',encoding='utf-8') as f:\n",
        "    for line in f:\n",
        "        values = line.split()\n",
        "        word = values[0]\n",
        "        coefs = np.asarray(values[1:], dtype='float32')\n",
        "        embedding_index[word] = coefs"
      ]
    },
    {
      "cell_type": "code",
      "execution_count": null,
      "metadata": {
        "id": "0dcRX1nHaSy4"
      },
      "outputs": [],
      "source": [
        "# encodder embedding\n",
        "t_embed = np.zeros((t_max_features, dim))\n",
        "for word, i in t_tokenizer.word_index.items():\n",
        "    vec = embedding_index.get(word)\n",
        "    if i < t_max_features and vec is not None:\n",
        "        t_embed[i] = vec\n",
        "\n",
        "# decoder embedding\n",
        "s_embed = np.zeros((s_max_features, dim))\n",
        "for word, i in s_tokenizer.word_index.items():\n",
        "    vec = embedding_index.get(word)\n",
        "    if i < s_max_features and vec is not None:\n",
        "        s_embed[i] = vec"
      ]
    },
    {
      "cell_type": "code",
      "execution_count": null,
      "metadata": {
        "colab": {
          "base_uri": "https://localhost:8080/"
        },
        "id": "mKx5Vg_-ahFo",
        "outputId": "6c862d75-b8d6-46ea-a851-60ae9ba7c8d5"
      },
      "outputs": [
        {
          "output_type": "stream",
          "name": "stdout",
          "text": [
            "Model: \"model\"\n",
            "__________________________________________________________________________________________________\n",
            " Layer (type)                   Output Shape         Param #     Connected to                     \n",
            "==================================================================================================\n",
            " input_1 (InputLayer)           [(None, 800)]        0           []                               \n",
            "                                                                                                  \n",
            " embedding (Embedding)          (None, 800, 100)     4672100     ['input_1[0][0]']                \n",
            "                                                                                                  \n",
            " input_2 (InputLayer)           [(None, None)]       0           []                               \n",
            "                                                                                                  \n",
            " bidirectional (Bidirectional)  [(None, 256),        234496      ['embedding[0][0]']              \n",
            "                                 (None, 128),                                                     \n",
            "                                 (None, 128),                                                     \n",
            "                                 (None, 128),                                                     \n",
            "                                 (None, 128)]                                                     \n",
            "                                                                                                  \n",
            " embedding_1 (Embedding)        (None, None, 100)    891500      ['input_2[0][0]']                \n",
            "                                                                                                  \n",
            " enc_h (Concatenate)            (None, 256)          0           ['bidirectional[0][1]',          \n",
            "                                                                  'bidirectional[0][3]']          \n",
            "                                                                                                  \n",
            " enc_c (Concatenate)            (None, 256)          0           ['bidirectional[0][2]',          \n",
            "                                                                  'bidirectional[0][4]']          \n",
            "                                                                                                  \n",
            " lstm_1 (LSTM)                  [(None, None, 256),  365568      ['embedding_1[0][0]',            \n",
            "                                 (None, 256),                     'enc_h[0][0]',                  \n",
            "                                 (None, 256)]                     'enc_c[0][0]']                  \n",
            "                                                                                                  \n",
            " time_distributed (TimeDistribu  (None, None, 8915)  2291155     ['lstm_1[0][0]']                 \n",
            " ted)                                                                                             \n",
            "                                                                                                  \n",
            "==================================================================================================\n",
            "Total params: 8,454,819\n",
            "Trainable params: 2,891,219\n",
            "Non-trainable params: 5,563,600\n",
            "__________________________________________________________________________________________________\n"
          ]
        }
      ],
      "source": [
        "latent_dim = 128\n",
        "\n",
        "# Encoder\n",
        "enc_input = Input(shape=(maxlen_text, ))\n",
        "enc_embed = Embedding(t_max_features, dim, input_length=maxlen_text, weights=[t_embed], trainable=False)(enc_input)\n",
        "\n",
        "# h_lstm = LSTM(latent_dim, return_sequences=True, return_state=True)\n",
        "# h_out, _, _ = h_lstm(enc_embed)\n",
        "enc_lstm = Bidirectional(LSTM(latent_dim, return_state=True))\n",
        "enc_output, enc_fh, enc_fc, enc_bh, enc_bc = enc_lstm(enc_embed)\n",
        "enc_h = Concatenate(axis=-1, name='enc_h')([enc_fh, enc_bh])\n",
        "enc_c = Concatenate(axis=-1, name='enc_c')([enc_fc, enc_bc])\n",
        "\n",
        "#Decoder\n",
        "dec_input = Input(shape=(None, ))\n",
        "dec_embed = Embedding(s_max_features, dim, weights=[s_embed], trainable=False)(dec_input)\n",
        "dec_lstm = LSTM(latent_dim*2, return_sequences=True, return_state=True, dropout=0.3, recurrent_dropout=0.2)\n",
        "dec_outputs, _, _ = dec_lstm(dec_embed, initial_state=[enc_h, enc_c])\n",
        "\n",
        "dec_dense = TimeDistributed(Dense(s_max_features, activation='softmax'))\n",
        "dec_output = dec_dense(dec_outputs)\n",
        "\n",
        "model = tf.keras.Model([enc_input, dec_input], dec_output)\n",
        "model.summary()"
      ]
    },
    {
      "cell_type": "code",
      "execution_count": null,
      "metadata": {
        "colab": {
          "base_uri": "https://localhost:8080/"
        },
        "id": "W7Nt_RJSaTS7",
        "outputId": "57cdeee0-4c92-4170-911d-ca449046a72b"
      },
      "outputs": [
        {
          "output_type": "stream",
          "name": "stdout",
          "text": [
            "Epoch 1/10\n",
            "95/95 - 1296s - loss: 3.5788 - val_loss: 3.1137 - 1296s/epoch - 14s/step\n",
            "Epoch 2/10\n",
            "95/95 - 1255s - loss: 3.0723 - val_loss: 2.9888 - 1255s/epoch - 13s/step\n",
            "Epoch 3/10\n",
            "95/95 - 1245s - loss: 2.9475 - val_loss: 2.8765 - 1245s/epoch - 13s/step\n",
            "Epoch 4/10\n",
            "95/95 - 1244s - loss: 2.8559 - val_loss: 2.8117 - 1244s/epoch - 13s/step\n",
            "Epoch 5/10\n",
            "95/95 - 1253s - loss: 2.7865 - val_loss: 2.7544 - 1253s/epoch - 13s/step\n",
            "Epoch 6/10\n",
            "95/95 - 1251s - loss: 2.7299 - val_loss: 2.7152 - 1251s/epoch - 13s/step\n",
            "Epoch 7/10\n",
            "95/95 - 1262s - loss: 2.6827 - val_loss: 2.6829 - 1262s/epoch - 13s/step\n",
            "Epoch 8/10\n",
            "95/95 - 1289s - loss: 2.6416 - val_loss: 2.6558 - 1289s/epoch - 14s/step\n",
            "Epoch 9/10\n",
            "95/95 - 1332s - loss: 2.6052 - val_loss: 2.6353 - 1332s/epoch - 14s/step\n",
            "Epoch 10/10\n",
            "95/95 - 1267s - loss: 2.5721 - val_loss: 2.6146 - 1267s/epoch - 13s/step\n"
          ]
        }
      ],
      "source": [
        "model.compile(loss='sparse_categorical_crossentropy', optimizer='rmsprop')\n",
        "early_stop = keras.callbacks.EarlyStopping(monitor='val_loss', mode='min', verbose=1, patience=2)\n",
        "history = model.fit([train_x, train_y[:, :-1]], train_y.reshape(train_y.shape[0], train_y.shape[1], 1)[:, 1:], epochs=10, callbacks=[early_stop], batch_size=128, verbose=2, \n",
        "          validation_data=([val_x, val_y[:, :-1]], val_y.reshape(val_y.shape[0], val_y.shape[1], 1)[:, 1:]))"
      ]
    },
    {
      "cell_type": "code",
      "execution_count": null,
      "metadata": {
        "id": "3B6EexXeaTV2"
      },
      "outputs": [],
      "source": [
        "enc_model = tf.keras.Model(inputs=enc_input, outputs=[enc_h, enc_c])\n",
        "\n",
        "dec_init_state_h = Input(shape=(latent_dim*2, ))\n",
        "dec_init_state_c = Input(shape=(latent_dim*2, ))\n",
        "\n",
        "dec_out, dec_h, dec_c = dec_lstm(dec_embed, initial_state=[dec_init_state_h, dec_init_state_c])\n",
        "dec_final = dec_dense(dec_out)\n",
        "\n",
        "dec_model = tf.keras.Model([dec_input]+[dec_init_state_h, dec_init_state_c], [dec_final]+[dec_h, dec_c])"
      ]
    },
    {
      "cell_type": "code",
      "execution_count": null,
      "metadata": {
        "id": "TwlsF5P5aTYZ"
      },
      "outputs": [],
      "source": [
        "def generate_summary(input_seq):\n",
        "    h, c = enc_model.predict(input_seq)\n",
        "    \n",
        "    next_token = np.zeros((1, 1))\n",
        "    next_token[0, 0] = s_tokenizer.word_index['sostok']\n",
        "    output_seq = ''\n",
        "    \n",
        "    stop = False\n",
        "    count = 0\n",
        "    \n",
        "    while not stop:\n",
        "        if count > 100:\n",
        "            break\n",
        "        decoder_out, state_h, state_c = dec_model.predict([next_token]+[h, c])\n",
        "        token_idx = np.argmax(decoder_out[0, -1, :])\n",
        "        \n",
        "        if token_idx == s_tokenizer.word_index['eostok']:\n",
        "            stop = True\n",
        "        elif token_idx > 0 and token_idx != s_tokenizer.word_index['sostok']:\n",
        "            token = s_tokenizer.index_word[token_idx]\n",
        "            output_seq = output_seq + ' ' + token\n",
        "        \n",
        "        next_token = np.zeros((1, 1))\n",
        "        next_token[0, 0] = token_idx\n",
        "        h, c = state_h, state_c\n",
        "        count += 1\n",
        "        \n",
        "    return output_seq"
      ]
    },
    {
      "cell_type": "code",
      "source": [
        "from keras.utils.vis_utils import plot_model\n",
        "plot_model(\n",
        "    model,\n",
        "    to_file='./seq2seq_encoder_decoder.png',\n",
        "    show_shapes=True,\n",
        "    show_layer_names=True,\n",
        "    rankdir='TB',\n",
        "    expand_nested=False,\n",
        "    dpi=96)"
      ],
      "metadata": {
        "colab": {
          "base_uri": "https://localhost:8080/",
          "height": 644
        },
        "id": "7IlGNv1fE0ML",
        "outputId": "24e209f8-a005-4e5d-b369-bde10eb044b1"
      },
      "execution_count": null,
      "outputs": [
        {
          "output_type": "execute_result",
          "data": {
            "image/png": "[encoded data removed]",
            "text/plain": [
              "<IPython.core.display.Image object>"
            ]
          },
          "metadata": {},
          "execution_count": 37
        }
      ]
    },
    {
      "cell_type": "code",
      "execution_count": null,
      "metadata": {
        "id": "toMywQmFaTbC"
      },
      "outputs": [],
      "source": [
        "# read the test data for predicting and evaluating the model with Rouge"
      ]
    },
    {
      "cell_type": "code",
      "execution_count": null,
      "metadata": {
        "id": "7ZQoaVvHaTeg"
      },
      "outputs": [],
      "source": [
        "df_test = pd.read_csv('drive/My Drive/Colab Notebooks/cnn_dailymail/validation.csv')\n",
        "test_df = df_test.sample(frac=0.1).drop('id',axis=1).reset_index(drop=True)"
      ]
    },
    {
      "cell_type": "code",
      "source": [
        "test_df.head()"
      ],
      "metadata": {
        "colab": {
          "base_uri": "https://localhost:8080/",
          "height": 206
        },
        "id": "TJmuoyEGEN2e",
        "outputId": "a48a7ac7-d5b6-45c6-900d-67f0c6e35df5"
      },
      "execution_count": null,
      "outputs": [
        {
          "output_type": "execute_result",
          "data": {
            "text/plain": [
              "                                             article  \\\n",
              "0  Savers have missed out on £130billion of inter...   \n",
              "1  Manager Steve Bruce feels energetic enough to ...   \n",
              "2  (CNN)Two more American aid workers who had hig...   \n",
              "3  The BBC has denied claims hackers were respons...   \n",
              "4  Facebook has created a new rule book that tell...   \n",
              "\n",
              "                                          highlights  \n",
              "0  Bank of England slashed interest rates to hist...  \n",
              "1  Steve Bruce has signed a new three-year contra...  \n",
              "2  After developing symptoms, a worker is moved t...  \n",
              "3  People trying to access the BBC site today wer...  \n",
              "4  Clarified its policies with a new Community St...  "
            ],
            "text/html": [
              "\n",
              "  <div id=\"df-099a5db4-82b3-4872-ae8e-fc66a6b8d370\">\n",
              "    <div class=\"colab-df-container\">\n",
              "      <div>\n",
              "<style scoped>\n",
              "    .dataframe tbody tr th:only-of-type {\n",
              "        vertical-align: middle;\n",
              "    }\n",
              "\n",
              "    .dataframe tbody tr th {\n",
              "        vertical-align: top;\n",
              "    }\n",
              "\n",
              "    .dataframe thead th {\n",
              "        text-align: right;\n",
              "    }\n",
              "</style>\n",
              "<table border=\"1\" class=\"dataframe\">\n",
              "  <thead>\n",
              "    <tr style=\"text-align: right;\">\n",
              "      <th></th>\n",
              "      <th>article</th>\n",
              "      <th>highlights</th>\n",
              "    </tr>\n",
              "  </thead>\n",
              "  <tbody>\n",
              "    <tr>\n",
              "      <th>0</th>\n",
              "      <td>Savers have missed out on £130billion of inter...</td>\n",
              "      <td>Bank of England slashed interest rates to hist...</td>\n",
              "    </tr>\n",
              "    <tr>\n",
              "      <th>1</th>\n",
              "      <td>Manager Steve Bruce feels energetic enough to ...</td>\n",
              "      <td>Steve Bruce has signed a new three-year contra...</td>\n",
              "    </tr>\n",
              "    <tr>\n",
              "      <th>2</th>\n",
              "      <td>(CNN)Two more American aid workers who had hig...</td>\n",
              "      <td>After developing symptoms, a worker is moved t...</td>\n",
              "    </tr>\n",
              "    <tr>\n",
              "      <th>3</th>\n",
              "      <td>The BBC has denied claims hackers were respons...</td>\n",
              "      <td>People trying to access the BBC site today wer...</td>\n",
              "    </tr>\n",
              "    <tr>\n",
              "      <th>4</th>\n",
              "      <td>Facebook has created a new rule book that tell...</td>\n",
              "      <td>Clarified its policies with a new Community St...</td>\n",
              "    </tr>\n",
              "  </tbody>\n",
              "</table>\n",
              "</div>\n",
              "      <button class=\"colab-df-convert\" onclick=\"convertToInteractive('df-099a5db4-82b3-4872-ae8e-fc66a6b8d370')\"\n",
              "              title=\"Convert this dataframe to an interactive table.\"\n",
              "              style=\"display:none;\">\n",
              "        \n",
              "  <svg xmlns=\"http://www.w3.org/2000/svg\" height=\"24px\"viewBox=\"0 0 24 24\"\n",
              "       width=\"24px\">\n",
              "    <path d=\"M0 0h24v24H0V0z\" fill=\"none\"/>\n",
              "    <path d=\"M18.56 5.44l.94 2.06.94-2.06 2.06-.94-2.06-.94-.94-2.06-.94 2.06-2.06.94zm-11 1L8.5 8.5l.94-2.06 2.06-.94-2.06-.94L8.5 2.5l-.94 2.06-2.06.94zm10 10l.94 2.06.94-2.06 2.06-.94-2.06-.94-.94-2.06-.94 2.06-2.06.94z\"/><path d=\"M17.41 7.96l-1.37-1.37c-.4-.4-.92-.59-1.43-.59-.52 0-1.04.2-1.43.59L10.3 9.45l-7.72 7.72c-.78.78-.78 2.05 0 2.83L4 21.41c.39.39.9.59 1.41.59.51 0 1.02-.2 1.41-.59l7.78-7.78 2.81-2.81c.8-.78.8-2.07 0-2.86zM5.41 20L4 18.59l7.72-7.72 1.47 1.35L5.41 20z\"/>\n",
              "  </svg>\n",
              "      </button>\n",
              "      \n",
              "  <style>\n",
              "    .colab-df-container {\n",
              "      display:flex;\n",
              "      flex-wrap:wrap;\n",
              "      gap: 12px;\n",
              "    }\n",
              "\n",
              "    .colab-df-convert {\n",
              "      background-color: #E8F0FE;\n",
              "      border: none;\n",
              "      border-radius: 50%;\n",
              "      cursor: pointer;\n",
              "      display: none;\n",
              "      fill: #1967D2;\n",
              "      height: 32px;\n",
              "      padding: 0 0 0 0;\n",
              "      width: 32px;\n",
              "    }\n",
              "\n",
              "    .colab-df-convert:hover {\n",
              "      background-color: #E2EBFA;\n",
              "      box-shadow: 0px 1px 2px rgba(60, 64, 67, 0.3), 0px 1px 3px 1px rgba(60, 64, 67, 0.15);\n",
              "      fill: #174EA6;\n",
              "    }\n",
              "\n",
              "    [theme=dark] .colab-df-convert {\n",
              "      background-color: #3B4455;\n",
              "      fill: #D2E3FC;\n",
              "    }\n",
              "\n",
              "    [theme=dark] .colab-df-convert:hover {\n",
              "      background-color: #434B5C;\n",
              "      box-shadow: 0px 1px 3px 1px rgba(0, 0, 0, 0.15);\n",
              "      filter: drop-shadow(0px 1px 2px rgba(0, 0, 0, 0.3));\n",
              "      fill: #FFFFFF;\n",
              "    }\n",
              "  </style>\n",
              "\n",
              "      <script>\n",
              "        const buttonEl =\n",
              "          document.querySelector('#df-099a5db4-82b3-4872-ae8e-fc66a6b8d370 button.colab-df-convert');\n",
              "        buttonEl.style.display =\n",
              "          google.colab.kernel.accessAllowed ? 'block' : 'none';\n",
              "\n",
              "        async function convertToInteractive(key) {\n",
              "          const element = document.querySelector('#df-099a5db4-82b3-4872-ae8e-fc66a6b8d370');\n",
              "          const dataTable =\n",
              "            await google.colab.kernel.invokeFunction('convertToInteractive',\n",
              "                                                     [key], {});\n",
              "          if (!dataTable) return;\n",
              "\n",
              "          const docLinkHtml = 'Like what you see? Visit the ' +\n",
              "            '<a target=\"_blank\" href=https://colab.research.google.com/notebooks/data_table.ipynb>data table notebook</a>'\n",
              "            + ' to learn more about interactive tables.';\n",
              "          element.innerHTML = '';\n",
              "          dataTable['output_type'] = 'display_data';\n",
              "          await google.colab.output.renderOutput(dataTable, element);\n",
              "          const docLink = document.createElement('div');\n",
              "          docLink.innerHTML = docLinkHtml;\n",
              "          element.appendChild(docLink);\n",
              "        }\n",
              "      </script>\n",
              "    </div>\n",
              "  </div>\n",
              "  "
            ]
          },
          "metadata": {},
          "execution_count": 39
        }
      ]
    },
    {
      "cell_type": "code",
      "execution_count": null,
      "metadata": {
        "id": "KxR3sc0pNXqX"
      },
      "outputs": [],
      "source": [
        "test_inputs = [clean_text(sent) for sent in test_df.article]\n",
        "test_inputs = t_tokenizer.texts_to_sequences(list(test_inputs))\n",
        "test_inputs = pad_sequences(test_inputs, maxlen=maxlen_text, padding='post')"
      ]
    },
    {
      "cell_type": "code",
      "execution_count": null,
      "metadata": {
        "id": "fp0xIfMkNiEy"
      },
      "outputs": [],
      "source": [
        "import csv\n",
        "hyps = []\n",
        "with open('drive/My Drive/Colab Notebooks/bi-lstm_result.csv', 'w') as f:\n",
        "    writer = csv.writer(f)\n",
        "    writer.writerow(['Article', 'Original Summary', 'Model Output'])\n",
        "    for i in range(50):\n",
        "        our_summ = generate_summary(test_inputs[i].reshape(1, maxlen_text))\n",
        "        hyps.append(our_summ)\n",
        "        writer.writerow([test_df.article[i], test_df.highlights[i], our_summ])"
      ]
    },
    {
      "cell_type": "code",
      "execution_count": null,
      "metadata": {
        "colab": {
          "base_uri": "https://localhost:8080/"
        },
        "id": "ghTMHb2DaTi3",
        "outputId": "a6534024-5a2f-4361-86e7-5d7a9708a906"
      },
      "outputs": [
        {
          "output_type": "execute_result",
          "data": {
            "text/plain": [
              "{'rouge-1': {'r': 0.05350034759153349,\n",
              "  'p': 0.2689447072535308,\n",
              "  'f': 0.08629857720682178},\n",
              " 'rouge-2': {'r': 0.0027660649558725113,\n",
              "  'p': 0.010965114662785953,\n",
              "  'f': 0.00431639983850429},\n",
              " 'rouge-l': {'r': 0.050870687428563065,\n",
              "  'p': 0.2578793477764066,\n",
              "  'f': 0.0821909984024637}}"
            ]
          },
          "metadata": {},
          "execution_count": 41
        }
      ],
      "source": [
        "rouge = Rouge()\n",
        "rouge.get_scores(hyps, test_df.highlights, avg=True, ignore_empty=True)"
      ]
    }
  ],
  "metadata": {
    "colab": {
      "provenance": []
    },
    "kernelspec": {
      "display_name": "Python 3",
      "name": "python3"
    },
    "language_info": {
      "name": "python"
    }
  },
  "nbformat": 4,
  "nbformat_minor": 0
}